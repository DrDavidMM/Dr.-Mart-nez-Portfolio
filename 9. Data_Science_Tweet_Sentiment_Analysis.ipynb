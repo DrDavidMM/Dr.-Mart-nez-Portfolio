{
  "nbformat": 4,
  "nbformat_minor": 0,
  "metadata": {
    "colab": {
      "name": "Data_Science_Tweet_Sentiment_Analysis.ipynb",
      "provenance": [],
      "collapsed_sections": []
    },
    "kernelspec": {
      "name": "python3",
      "display_name": "Python 3"
    },
    "language_info": {
      "name": "python"
    }
  },
  "cells": [
    {
      "cell_type": "markdown",
      "metadata": {
        "id": "BmEWxdm5oO8f"
      },
      "source": [
        "Programa para el análisis de sentimiento de tweets.\n",
        "\n",
        "David Martínez Méndez.\n",
        "\n",
        "---\n",
        "\n"
      ]
    },
    {
      "cell_type": "code",
      "metadata": {
        "id": "Xsa4ke-coNE0"
      },
      "source": [
        "#Library import\n",
        "import tweepy\n",
        "from textblob import TextBlob\n",
        "from wordcloud import WordCloud\n",
        "import pandas as pd\n",
        "import numpy as np\n",
        "import re\n",
        "import matplotlib.pyplot as plt\n",
        "plt.style.use(\"fivethirtyeight\")"
      ],
      "execution_count": 1,
      "outputs": []
    },
    {
      "cell_type": "code",
      "metadata": {
        "id": "-yGfbyo_o9iC",
        "colab": {
          "resources": {
            "http://localhost:8080/nbextensions/google.colab/files.js": {
              "data": "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",
              "ok": true,
              "headers": [
                [
                  "content-type",
                  "application/javascript"
                ]
              ],
              "status": 200,
              "status_text": ""
            }
          },
          "base_uri": "https://localhost:8080/",
          "height": 73
        },
        "outputId": "9192a5d4-f626-4697-eb94-d148181bc26b"
      },
      "source": [
        "#Data\n",
        "from google.colab import files\n",
        "uploaded = files.upload()"
      ],
      "execution_count": 2,
      "outputs": [
        {
          "output_type": "display_data",
          "data": {
            "text/html": [
              "\n",
              "     <input type=\"file\" id=\"files-714333e7-f7a2-42ec-bc02-8167c8f92eec\" name=\"files[]\" multiple disabled\n",
              "        style=\"border:none\" />\n",
              "     <output id=\"result-714333e7-f7a2-42ec-bc02-8167c8f92eec\">\n",
              "      Upload widget is only available when the cell has been executed in the\n",
              "      current browser session. Please rerun this cell to enable.\n",
              "      </output>\n",
              "      <script src=\"/nbextensions/google.colab/files.js\"></script> "
            ],
            "text/plain": [
              "<IPython.core.display.HTML object>"
            ]
          },
          "metadata": {
            "tags": []
          }
        },
        {
          "output_type": "stream",
          "text": [
            "Saving Login.csv to Login.csv\n"
          ],
          "name": "stdout"
        }
      ]
    },
    {
      "cell_type": "code",
      "metadata": {
        "id": "cfl1DFJupUpn"
      },
      "source": [
        "#Get tweet data\n",
        "log = pd.read_csv('Login.csv')"
      ],
      "execution_count": 3,
      "outputs": []
    },
    {
      "cell_type": "code",
      "metadata": {
        "id": "MeqEWNz8phi3"
      },
      "source": [
        "#API credentials\n",
        "consumerKey = log['key'][0]\n",
        "consumerSecret = log['key'][1]\n",
        "accesToken = log['key'][2]\n",
        "accesTokenSecret = log['key'][3]"
      ],
      "execution_count": 4,
      "outputs": []
    },
    {
      "cell_type": "code",
      "metadata": {
        "id": "txMZC_bbp6pZ"
      },
      "source": [
        "#Authentication Object\n",
        "authenticate = tweepy.OAuthHandler(consumerKey, consumerSecret)\n",
        "\n",
        "#Acces token and acces token secret\n",
        "authenticate.set_access_token(accesToken, accesTokenSecret)\n",
        "\n",
        "#API object\n",
        "api = tweepy.API(authenticate, wait_on_rate_limit = True)"
      ],
      "execution_count": 7,
      "outputs": []
    },
    {
      "cell_type": "code",
      "metadata": {
        "id": "xqvdnxR5qlIw",
        "colab": {
          "base_uri": "https://localhost:8080/"
        },
        "outputId": "3d9dc3cb-8168-4d7b-8afb-5bab4ff7c18b"
      },
      "source": [
        "#Tweet extraction\n",
        "posts = api.user_timeline(screen_name = \"BillGates\", count = 100, lang = \"en\", tweet_mode = \"extended\")\n",
        "\n",
        "#Tweet print\n",
        "print(\"Show the 5 recent tweets: \\n\")\n",
        "i = 1\n",
        "for tweet in posts[0:5]:\n",
        "  print(str(i) + ' ) ' + tweet.full_text + '\\n')\n",
        "  i = i + 1"
      ],
      "execution_count": 9,
      "outputs": [
        {
          "output_type": "stream",
          "text": [
            "Show the 5 recent tweets: \n",
            "\n",
            "1 ) I applaud David Vélez and Mariel Reyes’s pledge to dedicate the majority of their wealth to creating opportunity for the most vulnerable Latin American children and young adults: https://t.co/LGZ23efAVO\n",
            "\n",
            "2 ) Thank you to @DonorsChoose, and to all 40,255 of you who donated in support of students and teachers across the country. https://t.co/g2ABbfFtsl\n",
            "\n",
            "3 ) This collaboration’s impact is made possible through investments in the bipartisan infrastructure bill, which will unleash billions in private capital for clean energy projects throughout the U.S. if passed into law. Thank you @SecGranholm for your partnership.\n",
            "\n",
            "4 ) Avoiding a climate disaster will require a new, clean industrial revolution, and we don't have time to wait. Our work together will not only send us on a more viable path to net zero, but it will create long-term jobs in communities across the country.\n",
            "\n",
            "5 ) I'm incredibly excited about the new collaboration between @Breakthrough Energy Catalyst and @ENERGY to accelerate the adoption of next-generation clean technologies and build the net-zero economy: https://t.co/85aqtW8HCr\n",
            "\n"
          ],
          "name": "stdout"
        }
      ]
    },
    {
      "cell_type": "code",
      "metadata": {
        "id": "jyiZiC-ssVoS",
        "colab": {
          "base_uri": "https://localhost:8080/",
          "height": 202
        },
        "outputId": "fd518013-6610-4634-ad1d-d4a3b8c05eef"
      },
      "source": [
        "#Create a dataframe with a column called Tweets\n",
        "df = pd.DataFrame( [tweet.full_text for tweet in posts], columns = ['Tweets'])\n",
        "\n",
        "#Show fisrt 5rows of data\n",
        "df.head()"
      ],
      "execution_count": 10,
      "outputs": [
        {
          "output_type": "execute_result",
          "data": {
            "text/html": [
              "<div>\n",
              "<style scoped>\n",
              "    .dataframe tbody tr th:only-of-type {\n",
              "        vertical-align: middle;\n",
              "    }\n",
              "\n",
              "    .dataframe tbody tr th {\n",
              "        vertical-align: top;\n",
              "    }\n",
              "\n",
              "    .dataframe thead th {\n",
              "        text-align: right;\n",
              "    }\n",
              "</style>\n",
              "<table border=\"1\" class=\"dataframe\">\n",
              "  <thead>\n",
              "    <tr style=\"text-align: right;\">\n",
              "      <th></th>\n",
              "      <th>Tweets</th>\n",
              "    </tr>\n",
              "  </thead>\n",
              "  <tbody>\n",
              "    <tr>\n",
              "      <th>0</th>\n",
              "      <td>I applaud David Vélez and Mariel Reyes’s pledg...</td>\n",
              "    </tr>\n",
              "    <tr>\n",
              "      <th>1</th>\n",
              "      <td>Thank you to @DonorsChoose, and to all 40,255 ...</td>\n",
              "    </tr>\n",
              "    <tr>\n",
              "      <th>2</th>\n",
              "      <td>This collaboration’s impact is made possible t...</td>\n",
              "    </tr>\n",
              "    <tr>\n",
              "      <th>3</th>\n",
              "      <td>Avoiding a climate disaster will require a new...</td>\n",
              "    </tr>\n",
              "    <tr>\n",
              "      <th>4</th>\n",
              "      <td>I'm incredibly excited about the new collabora...</td>\n",
              "    </tr>\n",
              "  </tbody>\n",
              "</table>\n",
              "</div>"
            ],
            "text/plain": [
              "                                              Tweets\n",
              "0  I applaud David Vélez and Mariel Reyes’s pledg...\n",
              "1  Thank you to @DonorsChoose, and to all 40,255 ...\n",
              "2  This collaboration’s impact is made possible t...\n",
              "3  Avoiding a climate disaster will require a new...\n",
              "4  I'm incredibly excited about the new collabora..."
            ]
          },
          "metadata": {
            "tags": []
          },
          "execution_count": 10
        }
      ]
    },
    {
      "cell_type": "code",
      "metadata": {
        "id": "fTY--R5MtlsT",
        "colab": {
          "base_uri": "https://localhost:8080/",
          "height": 414
        },
        "outputId": "213db608-cd26-46dd-d031-4c9d076a6721"
      },
      "source": [
        "#Clean the data\n",
        "\n",
        "#Function to clean tweets\n",
        "def cleanTxt(text):\n",
        "  text = re.sub(r'@[A-Za-z0-9]+', ' ', text) #to remove @ mentions\n",
        "  text = re.sub(r'#', ' ', text) #removes the # symbol\n",
        "  text = re.sub(r'RT[\\s]+', ' ', text) #removes retweet rt\n",
        "  text = re.sub(r'https?:\\/\\/\\S+', ' ', text) #removes hyperlinks\n",
        "\n",
        "  return text\n",
        "\n",
        "#Cleaning\n",
        "df['Tweets'] = df['Tweets'].apply(cleanTxt)\n",
        "\n",
        "#Cleaned Text\n",
        "df"
      ],
      "execution_count": 11,
      "outputs": [
        {
          "output_type": "execute_result",
          "data": {
            "text/html": [
              "<div>\n",
              "<style scoped>\n",
              "    .dataframe tbody tr th:only-of-type {\n",
              "        vertical-align: middle;\n",
              "    }\n",
              "\n",
              "    .dataframe tbody tr th {\n",
              "        vertical-align: top;\n",
              "    }\n",
              "\n",
              "    .dataframe thead th {\n",
              "        text-align: right;\n",
              "    }\n",
              "</style>\n",
              "<table border=\"1\" class=\"dataframe\">\n",
              "  <thead>\n",
              "    <tr style=\"text-align: right;\">\n",
              "      <th></th>\n",
              "      <th>Tweets</th>\n",
              "    </tr>\n",
              "  </thead>\n",
              "  <tbody>\n",
              "    <tr>\n",
              "      <th>0</th>\n",
              "      <td>I applaud David Vélez and Mariel Reyes’s pledg...</td>\n",
              "    </tr>\n",
              "    <tr>\n",
              "      <th>1</th>\n",
              "      <td>Thank you to  , and to all 40,255 of you who d...</td>\n",
              "    </tr>\n",
              "    <tr>\n",
              "      <th>2</th>\n",
              "      <td>This collaboration’s impact is made possible t...</td>\n",
              "    </tr>\n",
              "    <tr>\n",
              "      <th>3</th>\n",
              "      <td>Avoiding a climate disaster will require a new...</td>\n",
              "    </tr>\n",
              "    <tr>\n",
              "      <th>4</th>\n",
              "      <td>I'm incredibly excited about the new collabora...</td>\n",
              "    </tr>\n",
              "    <tr>\n",
              "      <th>...</th>\n",
              "      <td>...</td>\n",
              "    </tr>\n",
              "    <tr>\n",
              "      <th>95</th>\n",
              "      <td>After you finish your pancakes this morning, c...</td>\n",
              "    </tr>\n",
              "    <tr>\n",
              "      <th>96</th>\n",
              "      <td>It’s deeply unfair that the people who contrib...</td>\n",
              "    </tr>\n",
              "    <tr>\n",
              "      <th>97</th>\n",
              "      <td>: Over the past few weeks health workers in E...</td>\n",
              "    </tr>\n",
              "    <tr>\n",
              "      <th>98</th>\n",
              "      <td>I named my book “How to Avoid a Climate Disast...</td>\n",
              "    </tr>\n",
              "    <tr>\n",
              "      <th>99</th>\n",
              "      <td>Congratulations   on this important role. I’m ...</td>\n",
              "    </tr>\n",
              "  </tbody>\n",
              "</table>\n",
              "<p>100 rows × 1 columns</p>\n",
              "</div>"
            ],
            "text/plain": [
              "                                               Tweets\n",
              "0   I applaud David Vélez and Mariel Reyes’s pledg...\n",
              "1   Thank you to  , and to all 40,255 of you who d...\n",
              "2   This collaboration’s impact is made possible t...\n",
              "3   Avoiding a climate disaster will require a new...\n",
              "4   I'm incredibly excited about the new collabora...\n",
              "..                                                ...\n",
              "95  After you finish your pancakes this morning, c...\n",
              "96  It’s deeply unfair that the people who contrib...\n",
              "97   : Over the past few weeks health workers in E...\n",
              "98  I named my book “How to Avoid a Climate Disast...\n",
              "99  Congratulations   on this important role. I’m ...\n",
              "\n",
              "[100 rows x 1 columns]"
            ]
          },
          "metadata": {
            "tags": []
          },
          "execution_count": 11
        }
      ]
    },
    {
      "cell_type": "code",
      "metadata": {
        "id": "iUj49xJmwCPS",
        "colab": {
          "base_uri": "https://localhost:8080/",
          "height": 414
        },
        "outputId": "14d4243f-4897-4e73-9b10-5fe132b73a42"
      },
      "source": [
        "#Function to get subjectivity \n",
        "def getSubjectivity(text):\n",
        "  return TextBlob(text).sentiment.subjectivity\n",
        "\n",
        "#Function to get polarity\n",
        "def getPolarity(text):\n",
        "  return TextBlob(text).sentiment.polarity\n",
        "\n",
        "#Create 2 new columns\n",
        "df['Subjectivity'] = df['Tweets'].apply(getSubjectivity)\n",
        "df['Polarity'] = df['Tweets'].apply(getPolarity)\n",
        "\n",
        "#Show the new dataframe\n",
        "df"
      ],
      "execution_count": 12,
      "outputs": [
        {
          "output_type": "execute_result",
          "data": {
            "text/html": [
              "<div>\n",
              "<style scoped>\n",
              "    .dataframe tbody tr th:only-of-type {\n",
              "        vertical-align: middle;\n",
              "    }\n",
              "\n",
              "    .dataframe tbody tr th {\n",
              "        vertical-align: top;\n",
              "    }\n",
              "\n",
              "    .dataframe thead th {\n",
              "        text-align: right;\n",
              "    }\n",
              "</style>\n",
              "<table border=\"1\" class=\"dataframe\">\n",
              "  <thead>\n",
              "    <tr style=\"text-align: right;\">\n",
              "      <th></th>\n",
              "      <th>Tweets</th>\n",
              "      <th>Subjectivity</th>\n",
              "      <th>Polarity</th>\n",
              "    </tr>\n",
              "  </thead>\n",
              "  <tbody>\n",
              "    <tr>\n",
              "      <th>0</th>\n",
              "      <td>I applaud David Vélez and Mariel Reyes’s pledg...</td>\n",
              "      <td>0.350000</td>\n",
              "      <td>0.025000</td>\n",
              "    </tr>\n",
              "    <tr>\n",
              "      <th>1</th>\n",
              "      <td>Thank you to  , and to all 40,255 of you who d...</td>\n",
              "      <td>0.000000</td>\n",
              "      <td>0.000000</td>\n",
              "    </tr>\n",
              "    <tr>\n",
              "      <th>2</th>\n",
              "      <td>This collaboration’s impact is made possible t...</td>\n",
              "      <td>0.691667</td>\n",
              "      <td>0.122222</td>\n",
              "    </tr>\n",
              "    <tr>\n",
              "      <th>3</th>\n",
              "      <td>Avoiding a climate disaster will require a new...</td>\n",
              "      <td>0.530909</td>\n",
              "      <td>0.200606</td>\n",
              "    </tr>\n",
              "    <tr>\n",
              "      <th>4</th>\n",
              "      <td>I'm incredibly excited about the new collabora...</td>\n",
              "      <td>0.634848</td>\n",
              "      <td>0.292677</td>\n",
              "    </tr>\n",
              "    <tr>\n",
              "      <th>...</th>\n",
              "      <td>...</td>\n",
              "      <td>...</td>\n",
              "      <td>...</td>\n",
              "    </tr>\n",
              "    <tr>\n",
              "      <th>95</th>\n",
              "      <td>After you finish your pancakes this morning, c...</td>\n",
              "      <td>0.000000</td>\n",
              "      <td>0.000000</td>\n",
              "    </tr>\n",
              "    <tr>\n",
              "      <th>96</th>\n",
              "      <td>It’s deeply unfair that the people who contrib...</td>\n",
              "      <td>0.800000</td>\n",
              "      <td>-0.600000</td>\n",
              "    </tr>\n",
              "    <tr>\n",
              "      <th>97</th>\n",
              "      <td>: Over the past few weeks health workers in E...</td>\n",
              "      <td>0.175000</td>\n",
              "      <td>-0.225000</td>\n",
              "    </tr>\n",
              "    <tr>\n",
              "      <th>98</th>\n",
              "      <td>I named my book “How to Avoid a Climate Disast...</td>\n",
              "      <td>0.500000</td>\n",
              "      <td>0.500000</td>\n",
              "    </tr>\n",
              "    <tr>\n",
              "      <th>99</th>\n",
              "      <td>Congratulations   on this important role. I’m ...</td>\n",
              "      <td>0.875000</td>\n",
              "      <td>0.387500</td>\n",
              "    </tr>\n",
              "  </tbody>\n",
              "</table>\n",
              "<p>100 rows × 3 columns</p>\n",
              "</div>"
            ],
            "text/plain": [
              "                                               Tweets  Subjectivity  Polarity\n",
              "0   I applaud David Vélez and Mariel Reyes’s pledg...      0.350000  0.025000\n",
              "1   Thank you to  , and to all 40,255 of you who d...      0.000000  0.000000\n",
              "2   This collaboration’s impact is made possible t...      0.691667  0.122222\n",
              "3   Avoiding a climate disaster will require a new...      0.530909  0.200606\n",
              "4   I'm incredibly excited about the new collabora...      0.634848  0.292677\n",
              "..                                                ...           ...       ...\n",
              "95  After you finish your pancakes this morning, c...      0.000000  0.000000\n",
              "96  It’s deeply unfair that the people who contrib...      0.800000 -0.600000\n",
              "97   : Over the past few weeks health workers in E...      0.175000 -0.225000\n",
              "98  I named my book “How to Avoid a Climate Disast...      0.500000  0.500000\n",
              "99  Congratulations   on this important role. I’m ...      0.875000  0.387500\n",
              "\n",
              "[100 rows x 3 columns]"
            ]
          },
          "metadata": {
            "tags": []
          },
          "execution_count": 12
        }
      ]
    },
    {
      "cell_type": "code",
      "metadata": {
        "id": "SKU0vL1hyORq",
        "colab": {
          "base_uri": "https://localhost:8080/",
          "height": 247
        },
        "outputId": "e7a78441-2ead-412f-cadb-a6ae6026ee3f"
      },
      "source": [
        "#Plot Text Clouds\n",
        "allWords = ' '.join([twts for twts in df['Tweets']])\n",
        "wordCloud = WordCloud(width = 500, height = 300, random_state = 21, max_font_size = 110).generate(allWords)\n",
        "\n",
        "plt.imshow(wordCloud, interpolation = \"bilinear\")\n",
        "plt.axis('off')\n",
        "plt.show()"
      ],
      "execution_count": 13,
      "outputs": [
        {
          "output_type": "display_data",
          "data": {
            "image/png": "[encoded data removed]",
            "text/plain": [
              "<Figure size 432x288 with 1 Axes>"
            ]
          },
          "metadata": {
            "tags": [],
            "needs_background": "light"
          }
        }
      ]
    },
    {
      "cell_type": "code",
      "metadata": {
        "id": "CQDQgJPGzecJ",
        "colab": {
          "base_uri": "https://localhost:8080/",
          "height": 414
        },
        "outputId": "f12969e4-a1a8-4017-f796-92cf904e5d8b"
      },
      "source": [
        "#Function to cumpute the negative, neutral and positive analysis\n",
        "def getAnalysis(score):\n",
        "  if score < 0:\n",
        "    return 'Negative'\n",
        "  elif score == 0:\n",
        "    return 'Neutral'\n",
        "  else:\n",
        "    return 'Positive'\n",
        "\n",
        "df['Analysis'] = df['Polarity'].apply(getAnalysis)\n",
        "\n",
        "df"
      ],
      "execution_count": 14,
      "outputs": [
        {
          "output_type": "execute_result",
          "data": {
            "text/html": [
              "<div>\n",
              "<style scoped>\n",
              "    .dataframe tbody tr th:only-of-type {\n",
              "        vertical-align: middle;\n",
              "    }\n",
              "\n",
              "    .dataframe tbody tr th {\n",
              "        vertical-align: top;\n",
              "    }\n",
              "\n",
              "    .dataframe thead th {\n",
              "        text-align: right;\n",
              "    }\n",
              "</style>\n",
              "<table border=\"1\" class=\"dataframe\">\n",
              "  <thead>\n",
              "    <tr style=\"text-align: right;\">\n",
              "      <th></th>\n",
              "      <th>Tweets</th>\n",
              "      <th>Subjectivity</th>\n",
              "      <th>Polarity</th>\n",
              "      <th>Analysis</th>\n",
              "    </tr>\n",
              "  </thead>\n",
              "  <tbody>\n",
              "    <tr>\n",
              "      <th>0</th>\n",
              "      <td>I applaud David Vélez and Mariel Reyes’s pledg...</td>\n",
              "      <td>0.350000</td>\n",
              "      <td>0.025000</td>\n",
              "      <td>Positive</td>\n",
              "    </tr>\n",
              "    <tr>\n",
              "      <th>1</th>\n",
              "      <td>Thank you to  , and to all 40,255 of you who d...</td>\n",
              "      <td>0.000000</td>\n",
              "      <td>0.000000</td>\n",
              "      <td>Neutral</td>\n",
              "    </tr>\n",
              "    <tr>\n",
              "      <th>2</th>\n",
              "      <td>This collaboration’s impact is made possible t...</td>\n",
              "      <td>0.691667</td>\n",
              "      <td>0.122222</td>\n",
              "      <td>Positive</td>\n",
              "    </tr>\n",
              "    <tr>\n",
              "      <th>3</th>\n",
              "      <td>Avoiding a climate disaster will require a new...</td>\n",
              "      <td>0.530909</td>\n",
              "      <td>0.200606</td>\n",
              "      <td>Positive</td>\n",
              "    </tr>\n",
              "    <tr>\n",
              "      <th>4</th>\n",
              "      <td>I'm incredibly excited about the new collabora...</td>\n",
              "      <td>0.634848</td>\n",
              "      <td>0.292677</td>\n",
              "      <td>Positive</td>\n",
              "    </tr>\n",
              "    <tr>\n",
              "      <th>...</th>\n",
              "      <td>...</td>\n",
              "      <td>...</td>\n",
              "      <td>...</td>\n",
              "      <td>...</td>\n",
              "    </tr>\n",
              "    <tr>\n",
              "      <th>95</th>\n",
              "      <td>After you finish your pancakes this morning, c...</td>\n",
              "      <td>0.000000</td>\n",
              "      <td>0.000000</td>\n",
              "      <td>Neutral</td>\n",
              "    </tr>\n",
              "    <tr>\n",
              "      <th>96</th>\n",
              "      <td>It’s deeply unfair that the people who contrib...</td>\n",
              "      <td>0.800000</td>\n",
              "      <td>-0.600000</td>\n",
              "      <td>Negative</td>\n",
              "    </tr>\n",
              "    <tr>\n",
              "      <th>97</th>\n",
              "      <td>: Over the past few weeks health workers in E...</td>\n",
              "      <td>0.175000</td>\n",
              "      <td>-0.225000</td>\n",
              "      <td>Negative</td>\n",
              "    </tr>\n",
              "    <tr>\n",
              "      <th>98</th>\n",
              "      <td>I named my book “How to Avoid a Climate Disast...</td>\n",
              "      <td>0.500000</td>\n",
              "      <td>0.500000</td>\n",
              "      <td>Positive</td>\n",
              "    </tr>\n",
              "    <tr>\n",
              "      <th>99</th>\n",
              "      <td>Congratulations   on this important role. I’m ...</td>\n",
              "      <td>0.875000</td>\n",
              "      <td>0.387500</td>\n",
              "      <td>Positive</td>\n",
              "    </tr>\n",
              "  </tbody>\n",
              "</table>\n",
              "<p>100 rows × 4 columns</p>\n",
              "</div>"
            ],
            "text/plain": [
              "                                               Tweets  ...  Analysis\n",
              "0   I applaud David Vélez and Mariel Reyes’s pledg...  ...  Positive\n",
              "1   Thank you to  , and to all 40,255 of you who d...  ...   Neutral\n",
              "2   This collaboration’s impact is made possible t...  ...  Positive\n",
              "3   Avoiding a climate disaster will require a new...  ...  Positive\n",
              "4   I'm incredibly excited about the new collabora...  ...  Positive\n",
              "..                                                ...  ...       ...\n",
              "95  After you finish your pancakes this morning, c...  ...   Neutral\n",
              "96  It’s deeply unfair that the people who contrib...  ...  Negative\n",
              "97   : Over the past few weeks health workers in E...  ...  Negative\n",
              "98  I named my book “How to Avoid a Climate Disast...  ...  Positive\n",
              "99  Congratulations   on this important role. I’m ...  ...  Positive\n",
              "\n",
              "[100 rows x 4 columns]"
            ]
          },
          "metadata": {
            "tags": []
          },
          "execution_count": 14
        }
      ]
    },
    {
      "cell_type": "code",
      "metadata": {
        "id": "hpPlv7qA0Q2U",
        "colab": {
          "base_uri": "https://localhost:8080/"
        },
        "outputId": "8b4c48f7-8ddc-4333-9709-8e4e6841a276"
      },
      "source": [
        "#Print positive tweets\n",
        "j=1\n",
        "sortedDF = df.sort_values(by = ['Polarity'])\n",
        "for i in range(0, sortedDF.shape[0]):\n",
        "  if sortedDF['Analysis'][i] == 'Positive':\n",
        "    print(str(j) + ') '+sortedDF['Tweets'][i])\n",
        "    print()\n",
        "    j = j + 1"
      ],
      "execution_count": 17,
      "outputs": [
        {
          "output_type": "stream",
          "text": [
            "1) I applaud David Vélez and Mariel Reyes’s pledge to dedicate the majority of their wealth to creating opportunity for the most vulnerable Latin American children and young adults:  \n",
            "\n",
            "2) This collaboration’s impact is made possible through investments in the bipartisan infrastructure bill, which will unleash billions in private capital for clean energy projects throughout the U.S. if passed into law. Thank you   for your partnership.\n",
            "\n",
            "3) Avoiding a climate disaster will require a new, clean industrial revolution, and we don't have time to wait. Our work together will not only send us on a more viable path to net zero, but it will create long-term jobs in communities across the country.\n",
            "\n",
            "4) I'm incredibly excited about the new collaboration between   Energy Catalyst and   to accelerate the adoption of next-generation clean technologies and build the net-zero economy:  \n",
            "\n",
            "5) I’m partnering with   to make sure that more teachers have access to everything they need to get ready for the new school year. I’ll give your donation an extra 50% boost today when you give to any classroom project or supply request.  \n",
            "\n",
            "6) I’m optimistic about the work that   is doing to invest in companies, support innovators, advocate for better policies, and lower the cost of climate tech. Join us.  \n",
            "\n",
            "7) Reaching zero will take a complete transformation of how we make and do everything – from the technologies and products we create to our public policies to the way we use markets to accelerate change. We need a new industrial revolution powered by clean technology.\n",
            "\n",
            "8) Every climate action we take must be toward the goal of reaching zero. That means rapidly deploying the technologies we have today to reduce emissions and investing immediately in the solutions we still need to get the world to zero.\n",
            "\n",
            "9) Avoiding a disaster will require courage, ambition, and partnership among leaders in every sector around the globe. As the report makes clear, no region will be spared by climate change. It will take all of us to meet this challenge.\n",
            "\n",
            "10) Today’s United Nations climate report is an urgent call to action for the world: we must reach net-zero emissions by 2050 to avoid a climate disaster.  \n",
            "\n",
            "11) Alzheimer’s and related dementias have impacted far too many families around the world—including my own. New funding from   will help   accelerate data collection and sharing to enable early detection and treatment.  \n",
            "\n",
            "12) Today’s students have the power to create a better future for all people, and teachers are helping them build their framework for understanding the world. Thank you to Bryan Stevenson for joining the   Conference for Social Studies this week.  \n",
            "\n",
            "13) I’m deeply saddened to hear of Tachi’s passing. I loved working with him and I learned a lot from him. His passion for saving lives and making the world a fairer place was inspiring, and he matched it with an incredible intellect. I will miss him.  \n",
            "\n",
            "14) Vaclav Smil’s books are amazing. His latest will give you a framework to think about humanity:    \n",
            "\n",
            "15) I enjoyed joining educators from around the world at the   Conference for the Social Studies to discuss how their teaching practices have changed over the last year and a half. I’m inspired by their resilience and dedication to their students:    \n",
            "\n",
            "16) It only took Senegal 15 years to cut childhood death in half. Community health workers and successful vaccination campaigns played a key role in this success. Read more from   and see how lessons from Senegal can be applied elsewhere.  \n",
            "\n",
            "17) The French drank an impressive amount of wine in 1926, but their consumption is now a third of what it was back then. Why? I love how this book forces you to think about the story behind a seemingly niche statistic.  \n",
            "\n",
            "18) My favorite author’s new book might be his best one yet. Each chapter covers one of 71 facts about the world that help you understand how history ties together. I unabashedly recommend it to anyone who loves learning.  \n",
            "\n",
            "19) Our foundation has been working to address this massive problem for 10 years—here’s one of the incredible Reinvent the Toilet designs that could help:    \n",
            "\n",
            "20) Ever heard a toilet be compared to an espresso machine? That’s how Dr. Shannon Yee describes the toilet he and his team have developed.  \n",
            "\n",
            "21) How much of the world population still lacks access to a toilet that safely removes waste from the home?\n",
            "\n",
            "Find the answer here:  \n",
            "\n",
            "22)  : “We are closer than ever to building a world where safe sanitation service is a basic human right enjoyed by everyone,…\n",
            "\n",
            "23) This map from   shows the progress we’ve made–but also highlights how much work we have left to do.  \n",
            "\n",
            "24) The COVID pandemic is a powerful reminder of the urgent work needed to contain and treat deadly pathogens. I’m optimistic about the progress being made on another crisis: safe sanitation:    \n",
            "\n",
            "25) You were a good sport, Jimmy. Pro tip...never choose glass “ 2” in a poop-water challenge:    \n",
            "\n",
            "26) The Gates Foundation is providing additional, flexible funding to the   for its pandemic response efforts, but more assistance from the global community is urgently needed to fill the gaps.  \n",
            "\n",
            "27)  : We take one step closer to a malaria-free world with this exciting new project that seeks to develop an mRNA-based malaria vac…\n",
            "\n",
            "28) I’ve been rewatching some of my favorite movies. Add your favorites to the list on  .  \n",
            "\n",
            "29) Getting an early start on my weekend reading: this article does a good job explaining immunity and what may happen with COVID-19 in the future.  \n",
            "\n",
            "30) During the height of the U.S. polio epidemic, the iron lung was one of the greatest tools used to fight polio. Today, it’s the iron will of the thousands of workers and their supporters who are committed to finishing the job.    endpolio\n",
            "\n",
            "31)  : Let us renew our determination to build a strong, sustainable and inclusive recovery from the pandemic, and to take decisive action…\n",
            "\n",
            "32) Our foundation joined the polio fight almost 15 years ago. And in all that time, I cannot think of a more important moment than right now.  \n",
            "\n",
            "33) I look forward to working with you and  _Commission on all of these important goals. Europe is a critical partner in creating a net-zero future and ensuring a healthy and equitable world for all.  \n",
            "\n",
            "34) Reaching net-zero emissions by 2050 means transforming our entire physical economy and accelerating innovation at an unprecedented pace.   Energy Catalyst will jumpstart this process.  \n",
            "\n",
            "35) This is the greatest opportunity for innovation in human history:    \n",
            "\n",
            "36)  : BE Catalyst is financing the foundation of a clean economy through four critical technologies. In these areas, Catalyst a…\n",
            "\n",
            "37) These students are doing inspiring work. Their ambition makes me optimistic about the future of health care (and the world).  \n",
            "\n",
            "38) I’m excited about   Energy Catalyst and think it can help make clean-energy innovations more available and affordable for everyone.  \n",
            "\n",
            "39) This expanded commitment to the foundation will accelerate its mission to fight poverty, disease, and inequity around the world. I'm grateful to the foundation's leadership team, employees, and partners for their dedication to making the world healthier and more just.  \n",
            "\n",
            "40)  : With nearly six decades in the medical profession, Dr. Louisa Samonsia thought she had seen it all. Then, COVID-19 hit.\n",
            "\n",
            "Learn h…\n",
            "\n",
            "41) Stopping Alzheimer’s requires more eyes on the problem. ADDI   recently hosted their 1st Data Challenge. I was inspired to see more than 1,200+ people from 65+ countries/regions join the fight.  \n",
            "\n",
            "42) It’s really encouraging to see these results. Dengue fever infects hundreds of millions of people a year and causes debilitating disease. This incredible technique could also be effective at stopping the spread of other viruses like Zika and Chikungunya.  \n",
            "\n",
            "43) This important commitment builds on the  's efforts to support partners working to create a more equal world.  \n",
            "\n",
            "44) I am truly grateful for his wisdom and leadership, and most of all for his enduring friendship. Warren will continue to inspire our foundation as we work to fight poverty and help millions of people live healthier lives.  \n",
            "\n",
            "45) I will always have a deep sense of accountability to Warren, paying close attention to the data to track our progress and identify areas where we can do better. But the value of Warren’s gift goes beyond anything that can be measured.\n",
            "\n",
            "46) Should you pick your nose?\n",
            "\n",
            "You can read an excerpt from Matt Richtel’s fascinating book about the immune system on my blog to find the answer:    \n",
            "\n",
            "47) The journalist   has created a fascinating beat for herself covering humanity’s impact on nature and our attempts to control it. Her latest book is a good reminder that we need to watch out for the unforeseen effects of our actions.  \n",
            "\n",
            "48) I'm almost always interested in books about American presidents, and I especially loved A Promised Land. It’s a fascinating look at what it’s like to steer a country through challenging times.  \n",
            "\n",
            "49) This book gave me a deeper, more nuanced appreciation for the system that is at the core of humanity’s fight against COVID-19 and everything our foundation’s Global Health program is trying to do.  \n",
            "\n",
            "50) If you’re looking for a good book to read this summer, these are some of my favorites.  \n",
            "\n",
            "51) The  ’s commitment to share 870M COVID-19 vaccine doses over the next year is welcome news - but time is not on our side. Vaccines must be delivered now to help control the pandemic everywhere and not disrupt the progress we've made.  \n",
            "\n",
            "52)  : As a physician, I’ve seen too many colleagues make the ultimate sacrifice on the frontlines. Over 115,000 health and care w…\n",
            "\n",
            "53) Polio tools and infrastructure are also critical to combatting other public health emergencies, like COVID-19. It is more important than ever that donors and countries commit to the new GPEI strategy to  endpolio and continue improving health for all.  \n",
            "\n",
            "54) These young leaders make me optimistic that brighter days are ahead for America’s students and teachers.  \n",
            "\n",
            "55) Against the odds,   became a doctor and is helping his country recover from civil war, Ebola, and now COVID-19. This doctor’s life story is almost as remarkable as his work.  \n",
            "\n",
            "56) This is an important step in the U.S. clean energy transition. I’m excited to see   working with  ,  , and   to bring this project to life with the workforce of Wyoming.  \n",
            "\n",
            "57) Heroes like Dr. Mohamed Barrie are the reason we started our foundation more than 20 years ago and why Melinda and I remain committed to its work. Mohamed’s story is truly inspiring, and I can’t wait to see what he and his team will accomplish next.  \n",
            "\n",
            "58)  : Promising news from the    COVAX AMC Summit as they have exceeded today’s fundraising target. This means more people in lo…\n",
            "\n",
            "59) The pandemic has exacerbated existing racial health inequities in the United States. The Health Equity Tracker is a new tool bringing visibility to disparities in U.S. medicine.  \n",
            "\n",
            "60)  : As our CEO   says, no barriers should stand in the way of equitable access to vaccines. We are supportive of a…\n",
            "\n",
            "61)  : The  , an unprecedented global alliance to develop &amp; deliver the tests, treatments &amp; vaccines the 🌐 needs to fight  …\n",
            "\n",
            "62) Ambitious short-term goals like this are critical to moving closer to a net-zero future. As we rapidly scale the solutions we have, we must also invest in innovation to reach our ultimate goals. Thank you   for your leadership.  \n",
            "\n",
            "63) It’s encouraging to see   Biden and   Kerry re-establish America’s leading role on climate change. I look forward to joining leaders from around the world to talk about some of the most important challenges we need to overcome to avoid a climate disaster.  \n",
            "\n",
            "64) Yesterday's verdict was a step in the right direction. But one court ruling alone will not bring to an end the injustice and inequity that Black people experience daily.  I hope we will continue to make real progress on this.\n",
            "\n",
            "65) “Time” is a poetic portrait of a family who love and support each other despite their difficult circumstances. I can’t recommend it highly enough.  \n",
            "\n",
            "66) If “Time” wins the Oscar this year, it will be the first documentary directed by a Black woman to do so. Garrett Bradley’s talent makes her worthy of that milestone. This is one of the most intimate movies I have ever seen.  itsTIME  \n",
            "\n",
            "67)  : In February, Ghana became the first African country to receive vaccines through  COVAX. Meet one of the nurses spearheading the v…\n",
            "\n",
            "68) To get to net-zero emissions globally by 2050, leaders from around the world must work together. It’s encouraging to see governments, business leaders, and financial institutions committing to a successful COP26 in Glasgow later this year.  \n",
            "\n",
            "69) The amount of cement China has consumed is a staggering statistic and reminder of how much emissions have grown in low- and middle-income countries. (Minecraft concrete doesn’t count, though server farms are responsible for a lot of emissions.)    \n",
            "\n",
            "70) Who installed the most concrete?\n",
            "\n",
            "Check your answer:  \n",
            "\n",
            "71) The best way to prevent new variants from emerging is by stopping transmission of the virus altogether:    \n",
            "\n",
            "72) It's encouraging to see innovation and clean energy investments at the forefront of  's  AmericanJobsPlan. Building markets for new energy technologies is good for jobs today and will build the economies we need while avoiding a climate disaster.  \n",
            "\n",
            "73) The technological transformation we need to address climate change can create good, safe jobs and build a more equitable, prosperous economy. To make that happen, we need to think big:    \n",
            "\n",
            "74) I had a great time answering questions about my new book, climate change, and COVID-19 on   last week. Here’s a recap of the conversation.  \n",
            "\n",
            "75) In this video, I answered some really good questions, including one about two really important numbers. Come ask me some questions of your own on   at 11:15:    \n",
            "\n",
            "76) I named my book “How to Avoid a Climate Disaster,” not “How to Stop Climate Change,” because our climate is already changing—and no one will be hurt more by climate change than the world’s poorest people. Here's how we can help them adapt.  \n",
            "\n",
            "77) Congratulations   on this important role. I’m excited to see what you and the Earth Fund will achieve. Avoiding a climate disaster is going to take all of us, and I’m grateful for  ’s leadership and partnership.  \n",
            "\n"
          ],
          "name": "stdout"
        }
      ]
    },
    {
      "cell_type": "code",
      "metadata": {
        "id": "1ddkMnea2CZ0",
        "colab": {
          "base_uri": "https://localhost:8080/"
        },
        "outputId": "b3964660-34a0-4df5-8efd-8e8b3b917191"
      },
      "source": [
        "#Print negative tweets\n",
        "j=1\n",
        "sortedDF = df.sort_values(by = ['Polarity'], ascending = 'False')\n",
        "for i in range(0, sortedDF.shape[0]):\n",
        "  if sortedDF['Analysis'][i] == 'Negative':\n",
        "    print(str(j) + ') '+sortedDF['Tweets'][i])\n",
        "    print()\n",
        "    j = j + 1"
      ],
      "execution_count": 23,
      "outputs": [
        {
          "output_type": "stream",
          "text": [
            "1) Over the years, I’ve shared a stage with a jar of human feces, smelled pit latrine odor, and drunk water made from poop (and convinced   to drink it too). Was it worth it? You bet. Here’s why:  \n",
            "\n",
            "2) Communities of color have been hit hard by COVID-19. One of the reasons why parts of the medical system often fail Black and brown people is because it’s not designed with them in mind. Dr. Stephaun Wallace wants to change that.  \n",
            "\n",
            "3) Dr. Stephaun Wallace ( ) has spent the last year helping make COVID-19 vaccines work for everybody. Stephaun and his colleagues at   are working to reach the people who are usually left behind.  \n",
            "\n",
            "4) It’s deeply unfair that the people who contribute the least to climate change will suffer the worst from its effects:    \n",
            "\n",
            "5)  : Over the past few weeks health workers in Ethiopia 🇪🇹, Nigeria 🇳🇬, Sudan 🇸🇩 and the Philippines 🇵🇭 were vaccinated against COVI…\n",
            "\n"
          ],
          "name": "stdout"
        }
      ]
    },
    {
      "cell_type": "code",
      "metadata": {
        "id": "OpWElo0e3MTT",
        "colab": {
          "base_uri": "https://localhost:8080/",
          "height": 404
        },
        "outputId": "5bfc6d48-3382-4042-e00d-71b7a5d69b4d"
      },
      "source": [
        "#Plot polarity and subjectivity\n",
        "plt.figure(figsize = (8, 6))\n",
        "for i in range(0, df.shape[0]):\n",
        "  plt.scatter(df['Polarity'][i], df['Subjectivity'][i], color = 'Blue')\n",
        "\n",
        "plt.title('Sentiment Analysis')\n",
        "plt.xlabel('Polarity')\n",
        "plt.ylabel('Subjectivity')\n",
        "plt.show()"
      ],
      "execution_count": 24,
      "outputs": [
        {
          "output_type": "display_data",
          "data": {
            "image/png": "[encoded data removed]",
            "text/plain": [
              "<Figure size 576x432 with 1 Axes>"
            ]
          },
          "metadata": {
            "tags": [],
            "needs_background": "light"
          }
        }
      ]
    },
    {
      "cell_type": "code",
      "metadata": {
        "id": "t1AonJld4EnY",
        "colab": {
          "base_uri": "https://localhost:8080/"
        },
        "outputId": "09128e12-a013-4965-c472-3b93cefd2c3e"
      },
      "source": [
        "#Plot percentage of positive tweets\n",
        "ptweets = df[df.Analysis == 'Positive']\n",
        "ptweets = ptweets['Tweets']\n",
        "\n",
        "round(  (ptweets.shape[0] / df.shape[0]) *100 , 1)"
      ],
      "execution_count": 25,
      "outputs": [
        {
          "output_type": "execute_result",
          "data": {
            "text/plain": [
              "77.0"
            ]
          },
          "metadata": {
            "tags": []
          },
          "execution_count": 25
        }
      ]
    },
    {
      "cell_type": "code",
      "metadata": {
        "id": "sKEylgUl640f",
        "colab": {
          "base_uri": "https://localhost:8080/"
        },
        "outputId": "9009116f-e0ed-41e9-e0b5-c4afa6b2565c"
      },
      "source": [
        "#Plot percentage of negative tweets\n",
        "ntweets = df[df.Analysis == 'Negative']\n",
        "ntweets = ntweets['Tweets']\n",
        "\n",
        "round(  (ntweets.shape[0] / df.shape[0]) *100 , 1)"
      ],
      "execution_count": 26,
      "outputs": [
        {
          "output_type": "execute_result",
          "data": {
            "text/plain": [
              "5.0"
            ]
          },
          "metadata": {
            "tags": []
          },
          "execution_count": 26
        }
      ]
    },
    {
      "cell_type": "code",
      "metadata": {
        "id": "LWC8BLdX7I-J",
        "colab": {
          "base_uri": "https://localhost:8080/",
          "height": 331
        },
        "outputId": "c57c0c1f-1166-4b29-fd44-7ad3a46d8a46"
      },
      "source": [
        "#Show the value counts\n",
        "df['Analysis'].value_counts()\n",
        "\n",
        "#Plot and visualize the counts\n",
        "plt.title('Sentiment Analysis')\n",
        "plt.xlabel('Sentiment')\n",
        "plt.ylabel('Counts')\n",
        "df['Analysis'].value_counts().plot(kind='bar')\n",
        "plt.show()"
      ],
      "execution_count": 27,
      "outputs": [
        {
          "output_type": "display_data",
          "data": {
            "image/png": "[encoded data removed]",
            "text/plain": [
              "<Figure size 432x288 with 1 Axes>"
            ]
          },
          "metadata": {
            "tags": [],
            "needs_background": "light"
          }
        }
      ]
    }
  ]
}